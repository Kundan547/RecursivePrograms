{
 "cells": [
  {
   "cell_type": "markdown",
   "id": "e0455aee-bb63-4945-afae-2e0276460a35",
   "metadata": {},
   "source": [
    "### Program to traverse all the elements of a string uisng while loop."
   ]
  },
  {
   "cell_type": "code",
   "execution_count": 1,
   "id": "10b1c7d9-8a60-459a-bc48-4c3fcfed7db5",
   "metadata": {},
   "outputs": [
    {
     "name": "stdout",
     "output_type": "stream",
     "text": [
      "Programing\n",
      "Programing\n",
      "Programing\n",
      "Programing\n",
      "Programing\n",
      "Programing\n",
      "Programing\n",
      "Programing\n",
      "Programing\n",
      "Programing\n"
     ]
    }
   ],
   "source": [
    "S = \"Programing\"\n",
    "index = 0\n",
    "while index < len(S):\n",
    "    print(S)\n",
    "    index += 1"
   ]
  },
  {
   "cell_type": "code",
   "execution_count": 2,
   "id": "92be29d2-ef9f-4e97-86c0-e2e718c75364",
   "metadata": {},
   "outputs": [],
   "source": [
    "### Change the existing string."
   ]
  },
  {
   "cell_type": "code",
   "execution_count": 3,
   "id": "c8a9deee-5dd0-482c-ac93-cc8c30f46afc",
   "metadata": {},
   "outputs": [
    {
     "data": {
      "text/plain": [
       "'vyasKundan'"
      ]
     },
     "execution_count": 3,
     "metadata": {},
     "output_type": "execute_result"
    }
   ],
   "source": [
    "str1 = \"Kundan\"\n",
    "str2 = \"vyas\"+ str1\n",
    "str2"
   ]
  },
  {
   "cell_type": "code",
   "execution_count": 4,
   "id": "2f85ec87-d0a8-4c5b-a36a-6b2859acb58f",
   "metadata": {},
   "outputs": [
    {
     "data": {
      "text/plain": [
       "2198088075040"
      ]
     },
     "execution_count": 4,
     "metadata": {},
     "output_type": "execute_result"
    }
   ],
   "source": [
    "id(str1)"
   ]
  },
  {
   "cell_type": "code",
   "execution_count": 5,
   "id": "5237f8f9-16fd-4cc5-9f83-21a17c5d0da7",
   "metadata": {},
   "outputs": [
    {
     "data": {
      "text/plain": [
       "2198088047856"
      ]
     },
     "execution_count": 5,
     "metadata": {},
     "output_type": "execute_result"
    }
   ],
   "source": [
    "id(str2)"
   ]
  },
  {
   "cell_type": "code",
   "execution_count": 6,
   "id": "891a23ce-8fc3-46bc-a738-98f5ecb1f12b",
   "metadata": {},
   "outputs": [],
   "source": [
    "### To get the ID of variable we're using id() method in python"
   ]
  },
  {
   "cell_type": "code",
   "execution_count": 8,
   "id": "2170bf51-16b4-4865-8ef5-dad2902b628a",
   "metadata": {},
   "outputs": [
    {
     "name": "stdout",
     "output_type": "stream",
     "text": [
      "Enter a number 45\n"
     ]
    },
    {
     "data": {
      "text/plain": [
       "140709942140728"
      ]
     },
     "execution_count": 8,
     "metadata": {},
     "output_type": "execute_result"
    }
   ],
   "source": [
    "num = int(input(\"Enter a number\"))\n",
    "id(num)"
   ]
  },
  {
   "cell_type": "code",
   "execution_count": null,
   "id": "3267f4d6-1586-4936-951a-5345e2e4b96b",
   "metadata": {},
   "outputs": [
    {
     "name": "stdout",
     "output_type": "stream",
     "text": [
      "Enter a desimal number:  23.25\n"
     ]
    },
    {
     "data": {
      "text/plain": [
       "1798427448912"
      ]
     },
     "execution_count": 18,
     "metadata": {},
     "output_type": "execute_result"
    }
   ],
   "source": [
    "num1 = float(input(\"Enter a desimal number: \"))\n",
    "id(num1)"
   ]
  },
  {
   "cell_type": "code",
   "execution_count": null,
   "id": "151d7f5d-dd27-46c4-a8fe-3f03c229dca0",
   "metadata": {},
   "outputs": [],
   "source": [
    "### If both string are same than hose strings ID'S are also same lets check this out."
   ]
  },
  {
   "cell_type": "code",
   "execution_count": 9,
   "id": "24977b61-cf44-414a-9535-3f386c7fa3fd",
   "metadata": {},
   "outputs": [
    {
     "data": {
      "text/plain": [
       "2198088077248"
      ]
     },
     "execution_count": 9,
     "metadata": {},
     "output_type": "execute_result"
    }
   ],
   "source": [
    "str1 = \"kundan\"\n",
    "id(str1)"
   ]
  },
  {
   "cell_type": "code",
   "execution_count": 10,
   "id": "92f16825-19c4-4f06-b9bb-5e2658b3771a",
   "metadata": {},
   "outputs": [
    {
     "data": {
      "text/plain": [
       "2198088077248"
      ]
     },
     "execution_count": 10,
     "metadata": {},
     "output_type": "execute_result"
    }
   ],
   "source": [
    "str2 = \"kundan\"\n",
    "id(str2)"
   ]
  },
  {
   "cell_type": "code",
   "execution_count": 11,
   "id": "bcdbd182-3828-4d2d-911d-f1a7b501a2be",
   "metadata": {},
   "outputs": [],
   "source": [
    "### The String+,* and in operators."
   ]
  },
  {
   "cell_type": "code",
   "execution_count": 12,
   "id": "5433ce67-6f1d-4993-9ef5-e4638c94caea",
   "metadata": {},
   "outputs": [
    {
     "data": {
      "text/plain": [
       "'kundankundan'"
      ]
     },
     "execution_count": 12,
     "metadata": {},
     "output_type": "execute_result"
    }
   ],
   "source": [
    "str1 + str2"
   ]
  },
  {
   "cell_type": "code",
   "execution_count": 13,
   "id": "4c00c2e9-508f-4558-8244-4e235124cb51",
   "metadata": {},
   "outputs": [
    {
     "data": {
      "text/plain": [
       "'kundanvyas'"
      ]
     },
     "execution_count": 13,
     "metadata": {},
     "output_type": "execute_result"
    }
   ],
   "source": [
    "str3 = str2 + \"vyas\"\n",
    "str3"
   ]
  },
  {
   "cell_type": "code",
   "execution_count": 14,
   "id": "deb0a970-d4b0-40c9-b2a3-673d77a446a8",
   "metadata": {},
   "outputs": [],
   "source": [
    "### SUPPOSE we need to print multiple of single string without using loop."
   ]
  },
  {
   "cell_type": "code",
   "execution_count": 15,
   "id": "d7ca67b7-95d2-4d66-a8f2-2c9378ae4eb6",
   "metadata": {},
   "outputs": [],
   "source": [
    "string = \"Python\""
   ]
  },
  {
   "cell_type": "code",
   "execution_count": 16,
   "id": "98167c31-2a32-45dc-af9d-5deb044d2148",
   "metadata": {},
   "outputs": [
    {
     "data": {
      "text/plain": [
       "'PythonPythonPython'"
      ]
     },
     "execution_count": 16,
     "metadata": {},
     "output_type": "execute_result"
    }
   ],
   "source": [
    "string2 = 3 * string\n",
    "string2"
   ]
  },
  {
   "cell_type": "code",
   "execution_count": 17,
   "id": "bacc4084-931a-436c-9c5c-9f1139f3c5fd",
   "metadata": {},
   "outputs": [],
   "source": [
    "### By using loop to print multiple string."
   ]
  },
  {
   "cell_type": "code",
   "execution_count": 18,
   "id": "3675d7f2-37b0-4ad1-95b9-fd154c13bcd7",
   "metadata": {},
   "outputs": [
    {
     "name": "stdout",
     "output_type": "stream",
     "text": [
      "javaPrograming\n",
      "javaPrograming\n",
      "javaPrograming\n"
     ]
    }
   ],
   "source": [
    "String = \"javaPrograming\"\n",
    "temp = 0\n",
    "while temp < 3:\n",
    "    print(String)\n",
    "    temp+=1"
   ]
  },
  {
   "cell_type": "code",
   "execution_count": 19,
   "id": "61e29c0b-80c1-46ff-b9c5-f155a92e34c4",
   "metadata": {},
   "outputs": [],
   "source": [
    "### Lets check the string , we have specific string in the existing sting."
   ]
  },
  {
   "cell_type": "code",
   "execution_count": 20,
   "id": "df4cb24b-0243-48f8-b3ef-3567f7500580",
   "metadata": {},
   "outputs": [],
   "source": [
    "Data = \"These are the tools programmers use to write code. Popular languages include Java, C, Python, JavaScript, and SQL. Each language has its own syntax and is suited for different types of tasks.\""
   ]
  },
  {
   "cell_type": "code",
   "execution_count": 21,
   "id": "d89dcf6f-68b8-4f75-969f-2d8000a626ae",
   "metadata": {},
   "outputs": [
    {
     "data": {
      "text/plain": [
       "'These are the tools programmers use to write code. Popular languages include Java, C, Python, JavaScript, and SQL. Each language has its own syntax and is suited for different types of tasks.'"
      ]
     },
     "execution_count": 21,
     "metadata": {},
     "output_type": "execute_result"
    }
   ],
   "source": [
    "Data"
   ]
  },
  {
   "cell_type": "code",
   "execution_count": 22,
   "id": "a44dc9be-4f78-4099-9a4e-0c3b8118e916",
   "metadata": {},
   "outputs": [],
   "source": [
    "### Here we are using IN and NOT IN to check the specific string is availabe or not."
   ]
  },
  {
   "cell_type": "code",
   "execution_count": 23,
   "id": "adff46f4-ff85-40d2-8ef0-9957ee17a747",
   "metadata": {},
   "outputs": [
    {
     "data": {
      "text/plain": [
       "True"
      ]
     },
     "execution_count": 23,
     "metadata": {},
     "output_type": "execute_result"
    }
   ],
   "source": [
    "\"Python\" in Data"
   ]
  },
  {
   "cell_type": "code",
   "execution_count": 24,
   "id": "03b507fe-b890-46d4-bbba-d3e7e0a2bdbe",
   "metadata": {},
   "outputs": [
    {
     "data": {
      "text/plain": [
       "False"
      ]
     },
     "execution_count": 24,
     "metadata": {},
     "output_type": "execute_result"
    }
   ],
   "source": [
    "\"Technology\" in Data"
   ]
  },
  {
   "cell_type": "code",
   "execution_count": 25,
   "id": "8df67eb9-5835-4e9a-8237-dee14939712b",
   "metadata": {},
   "outputs": [
    {
     "data": {
      "text/plain": [
       "True"
      ]
     },
     "execution_count": 25,
     "metadata": {},
     "output_type": "execute_result"
    }
   ],
   "source": [
    "\"Hello\" not in Data"
   ]
  },
  {
   "cell_type": "code",
   "execution_count": 26,
   "id": "0f079338-cf3f-420e-b72b-83c7def8ebe2",
   "metadata": {},
   "outputs": [
    {
     "data": {
      "text/plain": [
       "False"
      ]
     },
     "execution_count": 26,
     "metadata": {},
     "output_type": "execute_result"
    }
   ],
   "source": [
    "\"Java\" not in Data"
   ]
  },
  {
   "cell_type": "code",
   "execution_count": 27,
   "id": "191b5ee3-2509-4fd7-b0c7-56b5585ea828",
   "metadata": {},
   "outputs": [],
   "source": [
    "### Write a program to print all the letters from word1 that also appear in word2."
   ]
  },
  {
   "cell_type": "code",
   "execution_count": 28,
   "id": "896307b2-0e7f-49aa-a845-7354e0bccf27",
   "metadata": {},
   "outputs": [],
   "source": [
    "Word1 = \"USA North America\"\n",
    "Word2 = \"USA South America\""
   ]
  },
  {
   "cell_type": "code",
   "execution_count": 29,
   "id": "53794dd3-007d-4f6b-9512-7339a2964d8b",
   "metadata": {},
   "outputs": [
    {
     "data": {
      "text/plain": [
       "'USA North America'"
      ]
     },
     "execution_count": 29,
     "metadata": {},
     "output_type": "execute_result"
    }
   ],
   "source": [
    "Word1"
   ]
  },
  {
   "cell_type": "code",
   "execution_count": 30,
   "id": "0418c539-2731-4fcc-92c1-346afca40fd4",
   "metadata": {},
   "outputs": [
    {
     "data": {
      "text/plain": [
       "'USA South America'"
      ]
     },
     "execution_count": 30,
     "metadata": {},
     "output_type": "execute_result"
    }
   ],
   "source": [
    "Word2"
   ]
  },
  {
   "cell_type": "code",
   "execution_count": 31,
   "id": "8a314ea1-0b6f-4758-8164-26303692537f",
   "metadata": {},
   "outputs": [
    {
     "name": "stdout",
     "output_type": "stream",
     "text": [
      "USA orth America"
     ]
    }
   ],
   "source": [
    "#With question\n",
    "for letters in Word1:\n",
    "    if letters in Word2:\n",
    "        print(letters,end='')"
   ]
  },
  {
   "cell_type": "markdown",
   "id": "d0735d3e-f831-43af-9309-8636f6a4e02f",
   "metadata": {},
   "source": [
    "### String Comparison. Such as ==, <, >, <=, >= and != are used to compare the string."
   ]
  },
  {
   "cell_type": "code",
   "execution_count": 32,
   "id": "a722901e-e09c-4faa-9bfb-f922053e9098",
   "metadata": {},
   "outputs": [],
   "source": [
    "s1 = \"kundan\""
   ]
  },
  {
   "cell_type": "code",
   "execution_count": 33,
   "id": "76293ba6-7ec4-4abb-9f4b-13e8a94011ad",
   "metadata": {},
   "outputs": [],
   "source": [
    "s2 = \"KUNDAN\""
   ]
  },
  {
   "cell_type": "code",
   "execution_count": 34,
   "id": "9dccd0b5-6536-4654-b45e-abd4e0f05238",
   "metadata": {},
   "outputs": [
    {
     "data": {
      "text/plain": [
       "True"
      ]
     },
     "execution_count": 34,
     "metadata": {},
     "output_type": "execute_result"
    }
   ],
   "source": [
    "s1 > s2 # Its depend on ASCII values of Characters because (from a to z [97 to 122]) and (From A to Z [65 to 90])."
   ]
  },
  {
   "cell_type": "code",
   "execution_count": 35,
   "id": "8e92ebe2-5b60-42c1-a0c1-c8e39b599582",
   "metadata": {},
   "outputs": [
    {
     "data": {
      "text/plain": [
       "True"
      ]
     },
     "execution_count": 35,
     "metadata": {},
     "output_type": "execute_result"
    }
   ],
   "source": [
    "s1 != s2"
   ]
  },
  {
   "cell_type": "code",
   "execution_count": 36,
   "id": "ed2a82d1-5d07-44fc-8e73-f6aea0d9c3df",
   "metadata": {},
   "outputs": [
    {
     "data": {
      "text/plain": [
       "False"
      ]
     },
     "execution_count": 36,
     "metadata": {},
     "output_type": "execute_result"
    }
   ],
   "source": [
    "s1 == s2"
   ]
  },
  {
   "cell_type": "code",
   "execution_count": 37,
   "id": "0e5a7810-f45f-45e3-903d-7684667ae301",
   "metadata": {},
   "outputs": [],
   "source": [
    "#If i change the s1 int upper than what will happen lets see."
   ]
  },
  {
   "cell_type": "code",
   "execution_count": 38,
   "id": "eb331ec7-05db-4c71-bf09-7a3b32e6c512",
   "metadata": {},
   "outputs": [],
   "source": [
    "s1 = \"abcd\"\n",
    "s2 = \"abcd\".upper()"
   ]
  },
  {
   "cell_type": "code",
   "execution_count": 39,
   "id": "bed8d784-3fd1-4cf4-853b-c4cb015badd8",
   "metadata": {},
   "outputs": [
    {
     "data": {
      "text/plain": [
       "False"
      ]
     },
     "execution_count": 39,
     "metadata": {},
     "output_type": "execute_result"
    }
   ],
   "source": [
    "s1 < s2"
   ]
  },
  {
   "cell_type": "code",
   "execution_count": 40,
   "id": "b8df56e0-c4f8-42ab-8efb-777f48e250f3",
   "metadata": {},
   "outputs": [
    {
     "data": {
      "text/plain": [
       "'abcd'"
      ]
     },
     "execution_count": 40,
     "metadata": {},
     "output_type": "execute_result"
    }
   ],
   "source": [
    "s1"
   ]
  },
  {
   "cell_type": "code",
   "execution_count": 41,
   "id": "dc2d9d8a-00da-443f-aebf-8def373f2810",
   "metadata": {},
   "outputs": [
    {
     "data": {
      "text/plain": [
       "'ABCD'"
      ]
     },
     "execution_count": 41,
     "metadata": {},
     "output_type": "execute_result"
    }
   ],
   "source": [
    "s2"
   ]
  },
  {
   "cell_type": "code",
   "execution_count": 42,
   "id": "6f8baaba-a3f4-43bf-bbef-00f8475f78e5",
   "metadata": {},
   "outputs": [
    {
     "data": {
      "text/plain": [
       "True"
      ]
     },
     "execution_count": 42,
     "metadata": {},
     "output_type": "execute_result"
    }
   ],
   "source": [
    "s1 > s2"
   ]
  },
  {
   "cell_type": "code",
   "execution_count": 43,
   "id": "b6757b4f-fb4c-4065-8f2a-d084a2fb7047",
   "metadata": {},
   "outputs": [],
   "source": [
    "### What if both sting are same i mean both are lower or upper case letter."
   ]
  },
  {
   "cell_type": "code",
   "execution_count": 44,
   "id": "5ed9acee-8f0b-43d3-be00-4612e4ed5a3c",
   "metadata": {},
   "outputs": [],
   "source": [
    "st1 = \"kundan\"\n",
    "str2 = \"kuldeep\""
   ]
  },
  {
   "cell_type": "code",
   "execution_count": 45,
   "id": "60a085d8-b45d-4e3f-ab02-6edd2d450136",
   "metadata": {},
   "outputs": [
    {
     "data": {
      "text/plain": [
       "True"
      ]
     },
     "execution_count": 45,
     "metadata": {},
     "output_type": "execute_result"
    }
   ],
   "source": [
    "s1 > s2"
   ]
  },
  {
   "cell_type": "code",
   "execution_count": 46,
   "id": "fa0f62e6-ead9-4b31-a10e-1c0d59ef0228",
   "metadata": {},
   "outputs": [],
   "source": [
    "str1  = \"kundan\"\n",
    "str3 = \"kundan\""
   ]
  },
  {
   "cell_type": "code",
   "execution_count": 47,
   "id": "21395582-a3cb-4e89-88df-2a174a3ef79d",
   "metadata": {},
   "outputs": [
    {
     "data": {
      "text/plain": [
       "True"
      ]
     },
     "execution_count": 47,
     "metadata": {},
     "output_type": "execute_result"
    }
   ],
   "source": [
    "str1 >= str3"
   ]
  },
  {
   "cell_type": "code",
   "execution_count": 48,
   "id": "eab8b904-735e-4cd0-a1df-1f2c5d33a6ac",
   "metadata": {},
   "outputs": [
    {
     "data": {
      "text/plain": [
       "[' TCS', ' INFOSYS', ' GOOGLE', ' MICROSOFT', ' YAHOO']"
      ]
     },
     "execution_count": 48,
     "metadata": {},
     "output_type": "execute_result"
    }
   ],
   "source": [
    "Top_10_Company = \" TCS, INFOSYS, GOOGLE, MICROSOFT, YAHOO\"\n",
    "Company = Top_10_Company.split(\",\")\n",
    "Company"
   ]
  },
  {
   "cell_type": "code",
   "execution_count": 49,
   "id": "0cd12ba3-c773-4b52-8bda-a3cf02d18aa0",
   "metadata": {},
   "outputs": [
    {
     "name": "stdout",
     "output_type": "stream",
     "text": [
      "  TCS\n",
      "  INFOSYS\n",
      "  GOOGLE\n",
      "  MICROSOFT\n",
      "  YAHOO\n"
     ]
    }
   ],
   "source": [
    "for c in Company:\n",
    "    print(end=\" \")\n",
    "    print(c)"
   ]
  }
 ],
 "metadata": {
  "kernelspec": {
   "display_name": "Python 3 (ipykernel)",
   "language": "python",
   "name": "python3"
  },
  "language_info": {
   "codemirror_mode": {
    "name": "ipython",
    "version": 3
   },
   "file_extension": ".py",
   "mimetype": "text/x-python",
   "name": "python",
   "nbconvert_exporter": "python",
   "pygments_lexer": "ipython3",
   "version": "3.12.3"
  }
 },
 "nbformat": 4,
 "nbformat_minor": 5
}
